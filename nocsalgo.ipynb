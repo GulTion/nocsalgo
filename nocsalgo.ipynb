{
  "nbformat": 4,
  "nbformat_minor": 0,
  "metadata": {
    "colab": {
      "name": "Untitled",
      "provenance": [],
      "collapsed_sections": [],
      "mount_file_id": "1aWMBkO5b1vq6kwhK7DcrZdrXo5ZhY3Fq",
      "authorship_tag": "ABX9TyPHapkktOSGEFiXBfSpkhZB",
      "include_colab_link": true
    },
    "kernelspec": {
      "name": "python3",
      "display_name": "Python 3"
    }
  },
  "cells": [
    {
      "cell_type": "markdown",
      "metadata": {
        "id": "view-in-github",
        "colab_type": "text"
      },
      "source": [
        "<a href=\"https://colab.research.google.com/github/GulTion/nocsalgo/blob/master/nocsalgo.ipynb\" target=\"_parent\"><img src=\"https://colab.research.google.com/assets/colab-badge.svg\" alt=\"Open In Colab\"/></a>"
      ]
    },
    {
      "cell_type": "code",
      "metadata": {
        "id": "fdpUpjWMZSna"
      },
      "source": [
        "# How to Dowload all Video from the Workers"
      ],
      "execution_count": null,
      "outputs": []
    },
    {
      "cell_type": "code",
      "metadata": {
        "id": "4GRQ5nARJrgi"
      },
      "source": [
        "# Mount Drive\n",
        "from google.colab import drive\n",
        "drive.mount('/content/drive')"
      ],
      "execution_count": null,
      "outputs": []
    },
    {
      "cell_type": "code",
      "metadata": {
        "id": "eHbIOIL1L8gs",
        "colab": {
          "base_uri": "https://localhost:8080/"
        },
        "outputId": "7ad4b034-f07c-4cbb-c498-f50f724d2d1c"
      },
      "source": [
        "!git clone https://github.com/gultion/nocsalgo"
      ],
      "execution_count": 62,
      "outputs": [
        {
          "output_type": "stream",
          "text": [
            "Cloning into 'nocsalgo'...\n",
            "remote: Enumerating objects: 57, done.\u001b[K\n",
            "remote: Counting objects: 100% (57/57), done.\u001b[K\n",
            "remote: Compressing objects: 100% (41/41), done.\u001b[K\n",
            "remote: Total 57 (delta 19), reused 50 (delta 12), pack-reused 0\u001b[K\n",
            "Unpacking objects: 100% (57/57), done.\n"
          ],
          "name": "stdout"
        }
      ]
    },
    {
      "cell_type": "markdown",
      "metadata": {
        "id": "xwuHanOzXffA"
      },
      "source": [
        ""
      ]
    },
    {
      "cell_type": "code",
      "metadata": {
        "id": "8-NdvigzSiQi",
        "colab": {
          "base_uri": "https://localhost:8080/"
        },
        "outputId": "ba46c424-30ac-4e49-dd0b-534e46526736"
      },
      "source": [
        "# Step to Get the ALL url of file in data.py\n",
        "USERNAME = ''\n",
        "PASSWORD = ''\n",
        "URL = ''\n",
        "LOCATION = ''\n",
        "\n",
        "!cd nocsalgo && npm install && node index.js --url={\"'\"+URL+\"'\"} --username={\"'\"+USERNAME+\"'\"} --password={\"'\"+PASSWORD+\"'\"} --location={\"'\"+LOCATION+\"'\"}"
      ],
      "execution_count": 63,
      "outputs": [
        {
          "output_type": "stream",
          "text": [
            "\u001b[K\u001b[?25h\u001b[37;40mnpm\u001b[0m \u001b[0m\u001b[30;43mWARN\u001b[0m\u001b[35m\u001b[0m SmoggyInterestingRedundantcode@1.0.0 No description\n",
            "\u001b[0m\u001b[37;40mnpm\u001b[0m \u001b[0m\u001b[30;43mWARN\u001b[0m\u001b[35m\u001b[0m SmoggyInterestingRedundantcode@1.0.0 No repository field.\n",
            "\u001b[0m\n",
            "\u001b[K\u001b[?25hadded 13 packages from 12 contributors and audited 13 packages in 0.454s\n",
            "\n",
            "7 packages are looking for funding\n",
            "  run `npm fund` for details\n",
            "\n",
            "found \u001b[92m0\u001b[0m vulnerabilities\n",
            "\n"
          ],
          "name": "stdout"
        }
      ]
    },
    {
      "cell_type": "code",
      "metadata": {
        "id": "57yhZJuPSkbD",
        "colab": {
          "base_uri": "https://localhost:8080/"
        },
        "outputId": "b5713f2a-6abb-46cc-e48d-e649e99a9b34"
      },
      "source": [
        "# if Some of file unable to download then Run this Cell Once more and more and more\n",
        "!cd nocsalgo && python data.py"
      ],
      "execution_count": 64,
      "outputs": [
        {
          "output_type": "stream",
          "text": [
            "^C\n"
          ],
          "name": "stdout"
        }
      ]
    },
    {
      "cell_type": "code",
      "metadata": {
        "id": "PcNahCh-hPuv"
      },
      "source": [
        "#reset\n",
        "!cd {LOCATION} && rm -r *\n",
        "!rm -r nocsalgo"
      ],
      "execution_count": 65,
      "outputs": []
    }
  ]
}